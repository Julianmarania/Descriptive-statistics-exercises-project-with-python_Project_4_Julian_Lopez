{
    "cells": [
        {
            "cell_type": "markdown",
            "id": "ac622319",
            "metadata": {},
            "source": [
                "# Descriptive statistics problems"
            ]
        },
        {
            "cell_type": "markdown",
            "id": "5e0ab0d5",
            "metadata": {},
            "source": [
                "### Exercise 1\n",
                "\n",
                "We will use NumPy to obtain information to describe statistically.\n",
                "\n",
                "- Generate an array of 100 elements following a normal distribution.\n",
                "- Generate an array of 100 elements following a chi-square distribution with 3 degrees of freedom.\n",
                "- Calculate the main metrics and statistical measures that best describe the two vectors."
            ]
        },
        {
            "cell_type": "code",
            "execution_count": 71,
            "id": "34720ab6",
            "metadata": {},
            "outputs": [],
            "source": [
                "import numpy as np\n",
                "import random\n",
                "import statistics as stats\n",
                "from scipy.stats import skew\n",
                "from scipy.stats import kurtosis\n",
                "\n",
                "\n",
                "normal_d_array = np.random.normal(0, 1, 100)\n",
                "\n",
                "mean_normal_d_array = np.mean(normal_d_array)\n",
                "std_normal_d_array = np.std(normal_d_array)\n",
                "median_normal_d_array = stats.median(normal_d_array)\n",
                "mode_normal_d_array = stats.mode(normal_d_array)\n",
                "variance_normal_d_array = stats.variance(normal_d_array)\n",
                "range_normal_d_array = max(normal_d_array) - min(normal_d_array)\n",
                "\n",
                "# Percentiles\n",
                "p25_normal_d_array = np.percentile(normal_d_array, 25)\n",
                "p50_normal_d_array = np.percentile(normal_d_array, 50)\n",
                "p75_normal_d_array = np.percentile(normal_d_array, 75)\n",
                "\n",
                "# Quantiles\n",
                "q1_normal_d_array = np.quantile(normal_d_array, 0.25)\n",
                "q2_normal_d_array = np.quantile(normal_d_array, 0.5)\n",
                "q3_normal_d_array = np.quantile(normal_d_array, 0.75)\n",
                "\n",
                "# Skewness\n",
                "skewness_normal_d_array = skew(normal_d_array)\n",
                "\n",
                "# Kurtosis\n",
                "kurtosis_normal_d_array = kurtosis(normal_d_array)\n"
            ]
        },
        {
            "cell_type": "code",
            "execution_count": 70,
            "id": "fbcf9d1a",
            "metadata": {},
            "outputs": [],
            "source": [
                "\n",
                "chi_square_array = np.random.chisquare(2, 100)\n",
                "\n",
                "mean_chi_square_array = np.mean(chi_square_array)\n",
                "std_chi_square_array = np.std(chi_square_array)\n",
                "median_chi_square_array = stats.median(chi_square_array)\n",
                "mode_chi_square_array = stats.mode(chi_square_array)\n",
                "variance_chi_square_array = stats.variance(chi_square_array)\n",
                "range_chi_square_array = max(chi_square_array) - min(chi_square_array)\n",
                "\n",
                "# Percentiles\n",
                "p25_chi_square_array = np.percentile(chi_square_array, 25)\n",
                "p50_chi_square_array = np.percentile(chi_square_array, 50)\n",
                "p75_chi_square_array = np.percentile(chi_square_array, 75)\n",
                "\n",
                "# Quantiles\n",
                "q1_chi_square_array = np.quantile(chi_square_array, 0.25)\n",
                "q2_chi_square_array = np.quantile(chi_square_array, 0.5)\n",
                "q3_chi_square_array = np.quantile(chi_square_array, 0.75)\n",
                "\n",
                "# Skewness\n",
                "skewness_chi_square_array = skew(chi_square_array)\n",
                "\n",
                "# Kurtosis\n",
                "kurtosis_chi_square_array = kurtosis(chi_square_array)\n"
            ]
        },
        {
            "cell_type": "markdown",
            "id": "46c70c3d",
            "metadata": {},
            "source": [
                "### Exercise 2\n",
                "\n",
                "Write a Python program to calculate the standard deviation of the following data:\n",
                "\n",
                "```py\n",
                "data = [4, 2, 5, 8, 6]\n",
                "```"
            ]
        },
        {
            "cell_type": "code",
            "execution_count": 76,
            "id": "d590308e",
            "metadata": {},
            "outputs": [
                {
                    "name": "stdout",
                    "output_type": "stream",
                    "text": [
                        "Standard deviation: 2.0\n",
                        "Standard deviation according to statistics module: 2.23606797749979\n"
                    ]
                }
            ],
            "source": [
                "data = [4, 2, 5, 8, 6]\n",
                "\n",
                "std_1 = np.std(data)\n",
                "std_2 =  stats.stdev(data)\n",
                "\n",
                "print(f'Standard deviation: {std_1}')\n",
                "print(f'Standard deviation according to statistics module: {std_2}')"
            ]
        }
    ],
    "metadata": {
        "kernelspec": {
            "display_name": "Python 3",
            "language": "python",
            "name": "python3"
        },
        "language_info": {
            "codemirror_mode": {
                "name": "ipython",
                "version": 3
            },
            "file_extension": ".py",
            "mimetype": "text/x-python",
            "name": "python",
            "nbconvert_exporter": "python",
            "pygments_lexer": "ipython3",
            "version": "3.13.1"
        }
    },
    "nbformat": 4,
    "nbformat_minor": 5
}
